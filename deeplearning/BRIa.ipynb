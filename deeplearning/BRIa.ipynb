{
 "cells": [
  {
   "cell_type": "code",
   "execution_count": 1,
   "id": "initial_id",
   "metadata": {
    "collapsed": true,
    "ExecuteTime": {
     "end_time": "2024-01-08T13:01:59.190474500Z",
     "start_time": "2024-01-08T13:01:57.894171800Z"
    }
   },
   "outputs": [],
   "source": [
    "import os   \n",
    "import sys\n",
    "import mne\n",
    "import torch"
   ]
  },
  {
   "cell_type": "code",
   "execution_count": 2,
   "outputs": [],
   "source": [
    "import numpy as np"
   ],
   "metadata": {
    "collapsed": false,
    "ExecuteTime": {
     "end_time": "2024-01-08T13:01:59.194475900Z",
     "start_time": "2024-01-08T13:01:59.190474500Z"
    }
   },
   "id": "d50de73e03aed990"
  },
  {
   "cell_type": "code",
   "execution_count": 3,
   "outputs": [
    {
     "name": "stdout",
     "output_type": "stream",
     "text": [
      "/home/xzhouz00/.virtualenvs/zhou/bin/python\n"
     ]
    }
   ],
   "source": [
    "print(sys.executable)"
   ],
   "metadata": {
    "collapsed": false,
    "ExecuteTime": {
     "end_time": "2024-01-08T13:01:59.194475900Z",
     "start_time": "2024-01-08T13:01:59.194475900Z"
    }
   },
   "id": "ddc62ae43a410ee7"
  },
  {
   "cell_type": "markdown",
   "source": [
    "# 1. Configure"
   ],
   "metadata": {
    "collapsed": false
   },
   "id": "82c70fe203add732"
  },
  {
   "cell_type": "code",
   "execution_count": 4,
   "outputs": [
    {
     "name": "stdout",
     "output_type": "stream",
     "text": [
      "The python version is: 3.10.12 (main, Nov 20 2023, 15:14:05) [GCC 11.4.0]\n"
     ]
    }
   ],
   "source": [
    "print(f\"The python version is: {sys.version}\")"
   ],
   "metadata": {
    "collapsed": false,
    "ExecuteTime": {
     "end_time": "2024-01-08T13:01:59.198476500Z",
     "start_time": "2024-01-08T13:01:59.198476500Z"
    }
   },
   "id": "3b1d5431ab2a0cbe"
  },
  {
   "cell_type": "code",
   "execution_count": 5,
   "outputs": [
    {
     "name": "stdout",
     "output_type": "stream",
     "text": [
      "The pytorch version is: 2.1.2+cu118\n"
     ]
    }
   ],
   "source": [
    "print(f\"The pytorch version is: {torch.__version__}\")"
   ],
   "metadata": {
    "collapsed": false,
    "ExecuteTime": {
     "end_time": "2024-01-08T13:01:59.273007700Z",
     "start_time": "2024-01-08T13:01:59.239003800Z"
    }
   },
   "id": "3d8c6f9447b82555"
  },
  {
   "cell_type": "code",
   "execution_count": 6,
   "outputs": [
    {
     "name": "stdout",
     "output_type": "stream",
     "text": [
      "Mon Jan  8 13:01:57 2024       \r\n",
      "+---------------------------------------------------------------------------------------+\r\n",
      "| NVIDIA-SMI 535.129.03             Driver Version: 535.129.03   CUDA Version: 12.2     |\r\n",
      "|-----------------------------------------+----------------------+----------------------+\r\n",
      "| GPU  Name                 Persistence-M | Bus-Id        Disp.A | Volatile Uncorr. ECC |\r\n",
      "| Fan  Temp   Perf          Pwr:Usage/Cap |         Memory-Usage | GPU-Util  Compute M. |\r\n",
      "|                                         |                      |               MIG M. |\r\n",
      "|=========================================+======================+======================|\r\n",
      "|   0  NVIDIA RTX A5000               Off | 00000000:31:00.0 Off |                  Off |\r\n",
      "| 51%   77C    P2             224W / 230W |  23996MiB / 24564MiB |    100%      Default |\r\n",
      "|                                         |                      |                  N/A |\r\n",
      "+-----------------------------------------+----------------------+----------------------+\r\n",
      "|   1  NVIDIA RTX A5000               Off | 00000000:4B:00.0 Off |                  Off |\r\n",
      "| 30%   27C    P8              15W / 230W |      5MiB / 24564MiB |      0%      Default |\r\n",
      "|                                         |                      |                  N/A |\r\n",
      "+-----------------------------------------+----------------------+----------------------+\r\n",
      "|   2  NVIDIA RTX A5000               Off | 00000000:B1:00.0 Off |                  Off |\r\n",
      "| 42%   72C    P2             174W / 230W |  12896MiB / 24564MiB |     64%      Default |\r\n",
      "|                                         |                      |                  N/A |\r\n",
      "+-----------------------------------------+----------------------+----------------------+\r\n",
      "|   3  NVIDIA RTX A5000               Off | 00000000:CA:00.0 Off |                  Off |\r\n",
      "| 30%   29C    P8              17W / 230W |      5MiB / 24564MiB |      0%      Default |\r\n",
      "|                                         |                      |                  N/A |\r\n",
      "+-----------------------------------------+----------------------+----------------------+\r\n",
      "                                                                                         \r\n",
      "+---------------------------------------------------------------------------------------+\r\n",
      "| Processes:                                                                            |\r\n",
      "|  GPU   GI   CI        PID   Type   Process name                            GPU Memory |\r\n",
      "|        ID   ID                                                             Usage      |\r\n",
      "|=======================================================================================|\r\n",
      "|    0   N/A  N/A   2303895      C   python                                    22100MiB |\r\n",
      "|    0   N/A  N/A   3570608      C   python                                     1886MiB |\r\n",
      "|    2   N/A  N/A   3570608      C   python                                    12888MiB |\r\n",
      "+---------------------------------------------------------------------------------------+\r\n"
     ]
    }
   ],
   "source": [
    "!nvidia-smi"
   ],
   "metadata": {
    "collapsed": false,
    "ExecuteTime": {
     "end_time": "2024-01-08T13:01:59.762647700Z",
     "start_time": "2024-01-08T13:01:59.239003800Z"
    }
   },
   "id": "51a39351b42f0e7e"
  },
  {
   "cell_type": "code",
   "execution_count": 7,
   "outputs": [],
   "source": [
    "os.environ[\"CUDA_VISIBLE_DEVICES\"] = \"3\""
   ],
   "metadata": {
    "collapsed": false,
    "ExecuteTime": {
     "end_time": "2024-01-08T13:01:59.772072400Z",
     "start_time": "2024-01-08T13:01:59.768842400Z"
    }
   },
   "id": "d8f1b2fe2d73322e"
  },
  {
   "cell_type": "markdown",
   "source": [
    "# 2. Data Preprocessing"
   ],
   "metadata": {
    "collapsed": false
   },
   "id": "44d87479b22cd013"
  },
  {
   "cell_type": "code",
   "execution_count": 7,
   "outputs": [],
   "source": [],
   "metadata": {
    "collapsed": false,
    "ExecuteTime": {
     "end_time": "2024-01-08T13:01:59.779019700Z",
     "start_time": "2024-01-08T13:01:59.775017900Z"
    }
   },
   "id": "d5d4c7cc146eed71"
  },
  {
   "cell_type": "code",
   "execution_count": 7,
   "outputs": [],
   "source": [],
   "metadata": {
    "collapsed": false,
    "ExecuteTime": {
     "end_time": "2024-01-08T13:01:59.784019300Z",
     "start_time": "2024-01-08T13:01:59.782018800Z"
    }
   },
   "id": "38dfa04ab8887f70"
  },
  {
   "cell_type": "markdown",
   "source": [
    "# 3.Model"
   ],
   "metadata": {
    "collapsed": false
   },
   "id": "abce915212236f93"
  },
  {
   "cell_type": "code",
   "execution_count": 7,
   "outputs": [],
   "source": [],
   "metadata": {
    "collapsed": false,
    "ExecuteTime": {
     "end_time": "2024-01-08T13:01:59.839359900Z",
     "start_time": "2024-01-08T13:01:59.788326700Z"
    }
   },
   "id": "e673f014e8e5099"
  },
  {
   "cell_type": "code",
   "execution_count": 7,
   "outputs": [],
   "source": [],
   "metadata": {
    "collapsed": false,
    "ExecuteTime": {
     "end_time": "2024-01-08T13:01:59.839359900Z",
     "start_time": "2024-01-08T13:01:59.838354900Z"
    }
   },
   "id": "a48d888c2c215c64"
  },
  {
   "cell_type": "code",
   "execution_count": 7,
   "outputs": [],
   "source": [],
   "metadata": {
    "collapsed": false,
    "ExecuteTime": {
     "end_time": "2024-01-08T13:01:59.840364700Z",
     "start_time": "2024-01-08T13:01:59.839359900Z"
    }
   },
   "id": "343bf67013efa198"
  },
  {
   "cell_type": "markdown",
   "source": [
    "# 4. Evaluation"
   ],
   "metadata": {
    "collapsed": false
   },
   "id": "73a8540a389cf396"
  },
  {
   "cell_type": "code",
   "execution_count": 7,
   "outputs": [],
   "source": [],
   "metadata": {
    "collapsed": false,
    "ExecuteTime": {
     "end_time": "2024-01-08T13:01:59.840364700Z",
     "start_time": "2024-01-08T13:01:59.839359900Z"
    }
   },
   "id": "6cdcc9ab304cdec8"
  },
  {
   "cell_type": "code",
   "execution_count": 7,
   "outputs": [],
   "source": [],
   "metadata": {
    "collapsed": false,
    "ExecuteTime": {
     "end_time": "2024-01-08T13:01:59.841364700Z",
     "start_time": "2024-01-08T13:01:59.840364700Z"
    }
   },
   "id": "1c8f544eed82f766"
  },
  {
   "cell_type": "code",
   "execution_count": 7,
   "outputs": [],
   "source": [],
   "metadata": {
    "collapsed": false,
    "ExecuteTime": {
     "end_time": "2024-01-08T13:01:59.841364700Z",
     "start_time": "2024-01-08T13:01:59.840364700Z"
    }
   },
   "id": "f3190f3e5097cfca"
  },
  {
   "cell_type": "markdown",
   "source": [
    "# 5. Visualization"
   ],
   "metadata": {
    "collapsed": false
   },
   "id": "71989845199be276"
  },
  {
   "cell_type": "markdown",
   "source": [
    "# 6. Prediction"
   ],
   "metadata": {
    "collapsed": false
   },
   "id": "2487f192acde011e"
  },
  {
   "cell_type": "code",
   "execution_count": 7,
   "outputs": [],
   "source": [],
   "metadata": {
    "collapsed": false,
    "ExecuteTime": {
     "end_time": "2024-01-08T13:01:59.841364700Z",
     "start_time": "2024-01-08T13:01:59.840364700Z"
    }
   },
   "id": "c7e77490a883c264"
  }
 ],
 "metadata": {
  "kernelspec": {
   "display_name": "Python 3",
   "language": "python",
   "name": "python3"
  },
  "language_info": {
   "codemirror_mode": {
    "name": "ipython",
    "version": 2
   },
   "file_extension": ".py",
   "mimetype": "text/x-python",
   "name": "python",
   "nbconvert_exporter": "python",
   "pygments_lexer": "ipython2",
   "version": "2.7.6"
  }
 },
 "nbformat": 4,
 "nbformat_minor": 5
}
